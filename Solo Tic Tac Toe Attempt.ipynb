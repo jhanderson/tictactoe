{
 "cells": [
  {
   "cell_type": "code",
   "execution_count": 1,
   "metadata": {},
   "outputs": [],
   "source": [
    "from IPython.display import clear_output\n",
    "\n",
    "def display_board(board):\n",
    "    \n",
    "    clear_output()\n",
    "    \n",
    "    print(board[1]+'|'+board[2]+'|'+board[3])\n",
    "    print(board[4]+'|'+board[5]+'|'+board[6])\n",
    "    print(board[7]+'|'+board[8]+'|'+board[9])"
   ]
  },
  {
   "cell_type": "code",
   "execution_count": 2,
   "metadata": {},
   "outputs": [
    {
     "name": "stdout",
     "output_type": "stream",
     "text": [
      "X|O|X\n",
      "O|X|O\n",
      "X|O|X\n"
     ]
    }
   ],
   "source": [
    "test_board = ['$','X','O','X','O','X','O','X','O','X']\n",
    "\n",
    "display_board(test_board)"
   ]
  },
  {
   "cell_type": "code",
   "execution_count": 3,
   "metadata": {},
   "outputs": [],
   "source": [
    "def place_marker(board,marker,position):\n",
    "    \n",
    "    board[position] = marker"
   ]
  },
  {
   "cell_type": "code",
   "execution_count": 4,
   "metadata": {},
   "outputs": [
    {
     "name": "stdout",
     "output_type": "stream",
     "text": [
      "X|O|X\n",
      "O| |O\n",
      "X|O|X\n"
     ]
    }
   ],
   "source": [
    "place_marker(test_board,' ',5)\n",
    "\n",
    "display_board(test_board)"
   ]
  },
  {
   "cell_type": "code",
   "execution_count": 5,
   "metadata": {},
   "outputs": [],
   "source": [
    "def choose_position():\n",
    "    \n",
    "    choice = 0\n",
    "    \n",
    "    while choice not in [1,2,3,4,5,6,7,8,9]:\n",
    "        \n",
    "        try:\n",
    "            choice = int(input('Choose where to place your next marker (1-9): '))\n",
    "        except:\n",
    "            choice = int(input('Choose where to place your next marker (1-9): '))\n",
    "        \n",
    "    return choice"
   ]
  },
  {
   "cell_type": "code",
   "execution_count": 6,
   "metadata": {},
   "outputs": [
    {
     "name": "stdin",
     "output_type": "stream",
     "text": [
      "Choose where to place your next marker (1-9):  1\n"
     ]
    },
    {
     "data": {
      "text/plain": [
       "1"
      ]
     },
     "execution_count": 6,
     "metadata": {},
     "output_type": "execute_result"
    }
   ],
   "source": [
    "choose_position()"
   ]
  },
  {
   "cell_type": "code",
   "execution_count": 7,
   "metadata": {},
   "outputs": [],
   "source": [
    "import random\n",
    "\n",
    "def first_player():\n",
    "    \n",
    "    number = random.randint(0, 1)\n",
    "    \n",
    "    if number == 0:\n",
    "        return 'Player 1'\n",
    "    else:\n",
    "        return 'Player 2'\n"
   ]
  },
  {
   "cell_type": "code",
   "execution_count": 8,
   "metadata": {},
   "outputs": [
    {
     "data": {
      "text/plain": [
       "'Player 1'"
      ]
     },
     "execution_count": 8,
     "metadata": {},
     "output_type": "execute_result"
    }
   ],
   "source": [
    "first_player()"
   ]
  },
  {
   "cell_type": "code",
   "execution_count": 9,
   "metadata": {},
   "outputs": [],
   "source": [
    "def choose_marker():\n",
    "    \n",
    "    choice = ''\n",
    "    \n",
    "    while choice not in ['X','O']:\n",
    "        \n",
    "        choice = input('Player 1, choose marker X or O: ').upper()\n",
    "        \n",
    "    if choice == 'X':\n",
    "        return ['X','O']\n",
    "    else:\n",
    "        return ['O','X']"
   ]
  },
  {
   "cell_type": "code",
   "execution_count": 10,
   "metadata": {},
   "outputs": [
    {
     "name": "stdin",
     "output_type": "stream",
     "text": [
      "Player 1, choose marker X or O:  \n",
      "Player 1, choose marker X or O:  x\n"
     ]
    }
   ],
   "source": [
    "player1, player2 = choose_marker()"
   ]
  },
  {
   "cell_type": "code",
   "execution_count": 11,
   "metadata": {},
   "outputs": [
    {
     "data": {
      "text/plain": [
       "'O'"
      ]
     },
     "execution_count": 11,
     "metadata": {},
     "output_type": "execute_result"
    }
   ],
   "source": [
    "player2"
   ]
  },
  {
   "cell_type": "code",
   "execution_count": 12,
   "metadata": {},
   "outputs": [],
   "source": [
    "def space_check(board,position):\n",
    "    \n",
    "    return board[position] == ' '\n",
    "    "
   ]
  },
  {
   "cell_type": "code",
   "execution_count": 13,
   "metadata": {},
   "outputs": [
    {
     "data": {
      "text/plain": [
       "True"
      ]
     },
     "execution_count": 13,
     "metadata": {},
     "output_type": "execute_result"
    }
   ],
   "source": [
    "space_check(test_board,5)"
   ]
  },
  {
   "cell_type": "code",
   "execution_count": 14,
   "metadata": {},
   "outputs": [],
   "source": [
    "def choose_position(board):\n",
    "    \n",
    "    choice = 0\n",
    "    \n",
    "    while choice not in [1,2,3,4,5,6,7,8,9] or space_check(board,choice) == False:\n",
    "\n",
    "        try:\n",
    "            choice = int(input('Choose where to place your next marker (1-9): '))\n",
    "        except:\n",
    "            choice = int(input('Choose where to place your next marker (1-9): '))\n",
    "    \n",
    "    return choice"
   ]
  },
  {
   "cell_type": "code",
   "execution_count": 15,
   "metadata": {},
   "outputs": [
    {
     "name": "stdin",
     "output_type": "stream",
     "text": [
      "Choose where to place your next marker (1-9):  5\n"
     ]
    },
    {
     "data": {
      "text/plain": [
       "5"
      ]
     },
     "execution_count": 15,
     "metadata": {},
     "output_type": "execute_result"
    }
   ],
   "source": [
    "choose_position(test_board)"
   ]
  },
  {
   "cell_type": "code",
   "execution_count": 35,
   "metadata": {},
   "outputs": [],
   "source": [
    "def win_check(board,mark):\n",
    "    \n",
    "    return ((board[1]==board[2]==board[3]==mark) or\n",
    "            (board[4]==board[5]==board[6]==mark) or\n",
    "            (board[7]==board[8]==board[9]==mark) or\n",
    "            (board[1]==board[4]==board[7]==mark) or\n",
    "            (board[2]==board[5]==board[8]==mark) or\n",
    "            (board[3]==board[6]==board[9]==mark) or\n",
    "            (board[1]==board[5]==board[9]==mark) or \n",
    "            (board[3]==board[5]==board[7]==mark))\n",
    "            "
   ]
  },
  {
   "cell_type": "code",
   "execution_count": 17,
   "metadata": {},
   "outputs": [
    {
     "data": {
      "text/plain": [
       "False"
      ]
     },
     "execution_count": 17,
     "metadata": {},
     "output_type": "execute_result"
    }
   ],
   "source": [
    "win_check(test_board,'X')"
   ]
  },
  {
   "cell_type": "code",
   "execution_count": 18,
   "metadata": {},
   "outputs": [],
   "source": [
    "def full_check(board):\n",
    "    \n",
    "    for i in range(1,10):\n",
    "        if board[i] == ' ':\n",
    "            return False\n",
    "    return True"
   ]
  },
  {
   "cell_type": "code",
   "execution_count": 19,
   "metadata": {},
   "outputs": [
    {
     "data": {
      "text/plain": [
       "False"
      ]
     },
     "execution_count": 19,
     "metadata": {},
     "output_type": "execute_result"
    }
   ],
   "source": [
    "full_check(test_board)"
   ]
  },
  {
   "cell_type": "code",
   "execution_count": 20,
   "metadata": {},
   "outputs": [],
   "source": [
    "def replay():\n",
    "    \n",
    "    choice = ' '\n",
    "    \n",
    "    while choice not in ['y','n']:\n",
    "        \n",
    "        try:\n",
    "            choice = input('Would you like to play again? (y or n): ').lower()\n",
    "            \n",
    "        except:\n",
    "            choice = input('Would you like to play again? (y or n): ').lower()\n",
    "            \n",
    "    return choice == 'y'"
   ]
  },
  {
   "cell_type": "code",
   "execution_count": 21,
   "metadata": {},
   "outputs": [
    {
     "name": "stdin",
     "output_type": "stream",
     "text": [
      "Would you like to play again? (y or n):  n\n"
     ]
    },
    {
     "data": {
      "text/plain": [
       "False"
      ]
     },
     "execution_count": 21,
     "metadata": {},
     "output_type": "execute_result"
    }
   ],
   "source": [
    "replay()"
   ]
  },
  {
   "cell_type": "code",
   "execution_count": 31,
   "metadata": {},
   "outputs": [],
   "source": [
    "def tictactoe():\n",
    "    \n",
    "    print(\"Welcome to Tic Tac Toe!\")\n",
    "    \n",
    "    while True:\n",
    "        \n",
    "        board = [' ']*10\n",
    "\n",
    "        display_board(board)\n",
    "        \n",
    "        player1, player2 = choose_marker()\n",
    "        \n",
    "        turn = first_player()\n",
    "        \n",
    "        print(turn + ' to go first')\n",
    "        \n",
    "        game_on = False\n",
    "        \n",
    "        while game_on == False:\n",
    "            \n",
    "                try:\n",
    "                    game_on = input('Ready to play? (y or n): ').lower()\n",
    "                except:\n",
    "                    game_on = input('Ready to play? (y or n): ').lower()\n",
    "                    \n",
    "                if game_on == 'y':\n",
    "                    game_on = True\n",
    "                else:\n",
    "                    game_on = False\n",
    "        \n",
    "        while game_on == True:\n",
    "            \n",
    "            if turn == 'Player 1':\n",
    "                \n",
    "                display_board(board)\n",
    "                \n",
    "                choice = choose_position(board)\n",
    "                \n",
    "                place_marker(board,player1,choice)\n",
    "                \n",
    "                display_board(board)\n",
    "                \n",
    "                if win_check(board,player1):\n",
    "                    \n",
    "                    print(\"Player 1 has won!\")\n",
    "                    \n",
    "                    game_on = False\n",
    "                    \n",
    "                else:\n",
    "                    \n",
    "                    if full_check(board) == True:\n",
    "                    \n",
    "                        print(\"Tie Game! The board is now full\")\n",
    "                    \n",
    "                        game_on = False\n",
    "                        \n",
    "                    else:\n",
    "                \n",
    "                        turn = 'Player 2'\n",
    "                    \n",
    "            else:\n",
    "                \n",
    "                # Player 2's turn\n",
    "            \n",
    "                display_board(board)\n",
    "            \n",
    "                choice = choose_position(board)\n",
    "\n",
    "                place_marker(board,player2,choice)\n",
    "\n",
    "                display_board(board)\n",
    "\n",
    "                if win_check(board,player2):\n",
    "\n",
    "                    print(\"Player 2 has won!\")\n",
    "\n",
    "                    game_on = False\n",
    "\n",
    "                else:\n",
    "                    \n",
    "                    if full_check(board) == True:\n",
    "                    \n",
    "                        print(\"Tie Game! The board is now full\")\n",
    "                    \n",
    "                        game_on = False\n",
    "                        \n",
    "                    else:\n",
    "                \n",
    "                        turn = 'Player 1'\n",
    "        \n",
    "        if not replay():\n",
    "            break\n",
    "            \n",
    "    print(\"Thanks for playing!\")\n"
   ]
  },
  {
   "cell_type": "code",
   "execution_count": 36,
   "metadata": {},
   "outputs": [
    {
     "name": "stdout",
     "output_type": "stream",
     "text": [
      "O|O|X\n",
      "X|X|O\n",
      "O|X|O\n",
      "Tie Game! The board is now full\n"
     ]
    },
    {
     "name": "stdin",
     "output_type": "stream",
     "text": [
      "Would you like to play again? (y or n):  n\n"
     ]
    },
    {
     "name": "stdout",
     "output_type": "stream",
     "text": [
      "Thanks for playing!\n"
     ]
    }
   ],
   "source": [
    "tictactoe()"
   ]
  },
  {
   "cell_type": "code",
   "execution_count": null,
   "metadata": {},
   "outputs": [],
   "source": []
  }
 ],
 "metadata": {
  "kernelspec": {
   "display_name": "Python 3",
   "language": "python",
   "name": "python3"
  },
  "language_info": {
   "codemirror_mode": {
    "name": "ipython",
    "version": 3
   },
   "file_extension": ".py",
   "mimetype": "text/x-python",
   "name": "python",
   "nbconvert_exporter": "python",
   "pygments_lexer": "ipython3",
   "version": "3.8.3"
  }
 },
 "nbformat": 4,
 "nbformat_minor": 4
}
